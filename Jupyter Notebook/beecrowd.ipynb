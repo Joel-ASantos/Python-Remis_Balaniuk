{
 "cells": [
  {
   "attachments": {},
   "cell_type": "markdown",
   "metadata": {},
   "source": [
    "1000.O seu primeiro programa em qualquer linguagem de programação normalmente é o \"Hello World!\". Neste primeiro problema tudo o que você precisa fazer é imprimir esta mensagem na tela.\n",
    "\n",
    "Entrada\n",
    "Este problema não possui nenhuma entrada.\n",
    "\n",
    "Saída\n",
    "Você deve imprimir a mensagem \"Hello World!\" e em seguida o final de linha, conforme o exemplo abaixo."
   ]
  },
  {
   "cell_type": "code",
   "execution_count": 5,
   "metadata": {},
   "outputs": [
    {
     "name": "stdout",
     "output_type": "stream",
     "text": [
      "Hello World\n"
     ]
    }
   ],
   "source": [
    "print(\"Hello World\")"
   ]
  },
  {
   "attachments": {},
   "cell_type": "markdown",
   "metadata": {},
   "source": [
    "1001.Leia 2 valores inteiros e armazene-os nas variáveis A e B. Efetue a soma de A e B atribuindo o seu resultado na variável X. Imprima X conforme exemplo apresentado abaixo. Não apresente mensagem alguma além daquilo que está sendo especificado e não esqueça de imprimir o fim de linha após o resultado, caso contrário, você receberá \"Presentation Error\".\n",
    "\n",
    "Entrada\n",
    "A entrada contém 2 valores inteiros.\n",
    "\n",
    "Saída\n",
    "Imprima a mensagem \"X = \" (letra X maiúscula) seguido pelo valor da variável X e pelo final de linha."
   ]
  },
  {
   "cell_type": "code",
   "execution_count": 2,
   "metadata": {},
   "outputs": [
    {
     "name": "stdout",
     "output_type": "stream",
     "text": [
      "X =  14\n"
     ]
    }
   ],
   "source": [
    "a = int(input())\n",
    "b = int(input())\n",
    "x = a + b\n",
    "\n",
    "print(\"X = \",x)"
   ]
  },
  {
   "cell_type": "markdown",
   "metadata": {},
   "source": [
    "1002.A fórmula para calcular a área de uma circunferência é: area = π . raio2. Considerando para este problema que π = 3.14159:\n",
    "\n",
    "- Efetue o cálculo da área, elevando o valor de raio ao quadrado e multiplicando por π.\n",
    "\n",
    "Entrada\n",
    "A entrada contém um valor de ponto flutuante (dupla precisão), no caso, a variável raio.\n",
    "\n",
    "Saída\n",
    "Apresentar a mensagem \"A=\" seguido pelo valor da variável area, conforme exemplo abaixo, com 4 casas após o ponto decimal. Utilize variáveis de dupla precisão (double). Como todos os problemas, não esqueça de imprimir o fim de linha após o resultado, caso contrário, você receberá \"Presentation Error\"."
   ]
  },
  {
   "cell_type": "code",
   "execution_count": 3,
   "metadata": {},
   "outputs": [
    {
     "name": "stdout",
     "output_type": "stream",
     "text": [
      "Digite o raio: \n",
      "A=  19.6349375\n"
     ]
    }
   ],
   "source": [
    "n = 3.14159\n",
    "\n",
    "print(\"Digite o raio: \")\n",
    "raio = float(input())\n",
    "\n",
    "area = n * (raio**2)\n",
    "print(\"A= \",area)"
   ]
  },
  {
   "cell_type": "markdown",
   "metadata": {},
   "source": [
    "1003.Leia dois valores inteiros, no caso para variáveis A e B. A seguir, calcule a soma entre elas e atribua à variável SOMA. A seguir escrever o valor desta variável.\n",
    "\n",
    "Entrada\n",
    "O arquivo de entrada contém 2 valores inteiros.\n",
    "\n",
    "Saída\n",
    "Imprima a mensagem \"SOMA\" com todas as letras maiúsculas, com um espaço em branco antes e depois da igualdade seguido pelo valor correspondente à soma de A e B. Como todos os problemas, não esqueça de imprimir o fim de linha após o resultado, caso contrário, você receberá \"Presentation Error\"."
   ]
  },
  {
   "cell_type": "code",
   "execution_count": 4,
   "metadata": {},
   "outputs": [
    {
     "name": "stdout",
     "output_type": "stream",
     "text": [
      "SOMA =  35\n"
     ]
    }
   ],
   "source": [
    "a = int(input(\"Digite o valor 1: \"))\n",
    "b = int(input(\"Digite o valor 2: \"))\n",
    "soma = a + b\n",
    "\n",
    "print(\"SOMA = \",soma)"
   ]
  },
  {
   "cell_type": "markdown",
   "metadata": {},
   "source": [
    "1004.Leia dois valores inteiros. A seguir, calcule o produto entre estes dois valores e atribua esta operação à variável PROD. A seguir mostre a variável PROD com mensagem correspondente.   \n",
    "\n",
    "Entrada\n",
    "O arquivo de entrada contém 2 valores inteiros.\n",
    "\n",
    "Saída\n",
    "Imprima a mensagem \"PROD\" e a variável PROD conforme exemplo abaixo, com um espaço em branco antes e depois da igualdade. Não esqueça de imprimir o fim de linha após o produto, caso contrário seu programa apresentará a mensagem: “Presentation Error”."
   ]
  },
  {
   "cell_type": "code",
   "execution_count": 5,
   "metadata": {},
   "outputs": [
    {
     "name": "stdout",
     "output_type": "stream",
     "text": [
      "PROD =  4\n"
     ]
    }
   ],
   "source": [
    "a = int(input(\"Digite o valor 1: \"))\n",
    "b = int(input(\"Digite o valor 2: \"))\n",
    "prod = a * b\n",
    "\n",
    "print(\"PROD = \",prod)"
   ]
  },
  {
   "cell_type": "markdown",
   "metadata": {},
   "source": [
    "1005.Leia 2 valores de ponto flutuante de dupla precisão A e B, que correspondem a 2 notas de um aluno. A seguir, calcule a média do aluno, sabendo que a nota A tem peso 3.5 e a nota B tem peso 7.5 (A soma dos pesos portanto é 11). Assuma que cada nota pode ir de 0 até 10.0, sempre com uma casa decimal.\n",
    "\n",
    "Entrada\n",
    "O arquivo de entrada contém 2 valores com uma casa decimal cada um.\n",
    "\n",
    "Saída\n",
    "Imprima a mensagem \"MEDIA\" e a média do aluno conforme exemplo abaixo, com 5 dígitos após o ponto decimal e com um espaço em branco antes e depois da igualdade. Utilize variáveis de dupla precisão (double) e como todos os problemas, não esqueça de imprimir o fim de linha após o resultado, caso contrário, você receberá \"Presentation Error\"."
   ]
  },
  {
   "cell_type": "code",
   "execution_count": 6,
   "metadata": {},
   "outputs": [
    {
     "name": "stdout",
     "output_type": "stream",
     "text": [
      "MEDIA: 5.08409\n"
     ]
    }
   ],
   "source": [
    "a = float(input(\"Nota 1: \"))\n",
    "b = float(input(\"Nota 2: \"))\n",
    "\n",
    "media = ((a * 3.5) + (b * 7.5))/11\n",
    "print(\"MEDIA: {:.5f}\".format(media))"
   ]
  },
  {
   "cell_type": "markdown",
   "metadata": {},
   "source": [
    "1006.Leia 3 valores, no caso, variáveis A, B e C, que são as três notas de um aluno. A seguir, calcule a média do aluno, sabendo que a nota A tem peso 2, a nota B tem peso 3 e a nota C tem peso 5. Considere que cada nota pode ir de 0 até 10.0, sempre com uma casa decimal.\n",
    "\n",
    "Entrada\n",
    "O arquivo de entrada contém 3 valores com uma casa decimal, de dupla precisão (double).\n",
    "\n",
    "Saída\n",
    "Imprima a mensagem \"MEDIA\" e a média do aluno conforme exemplo abaixo, com 1 dígito após o ponto decimal e com um espaço em branco antes e depois da igualdade. Assim como todos os problemas, não esqueça de imprimir o fim de linha após o resultado, caso contrário, você receberá \"Presentation Error\"."
   ]
  },
  {
   "cell_type": "code",
   "execution_count": 7,
   "metadata": {},
   "outputs": [
    {
     "name": "stdout",
     "output_type": "stream",
     "text": [
      "Media = 7.2\n"
     ]
    }
   ],
   "source": [
    "a = float(input(\"Nota 1: \"))\n",
    "b = float(input(\"Nota 2: \"))\n",
    "c = float(input(\"Nota 3: \"))\n",
    "\n",
    "media = ((a * 2) + (b * 3) + (c * 5)) / 10\n",
    "print(\"Media = {:.1f}\".format(media))"
   ]
  },
  {
   "cell_type": "markdown",
   "metadata": {},
   "source": [
    "1007.Leia quatro valores inteiros A, B, C e D. A seguir, calcule e mostre a diferença do produto de A e B pelo produto de C e D segundo a fórmula: DIFERENCA = (A * B - C * D).\n",
    "\n",
    "Entrada\n",
    "O arquivo de entrada contém 4 valores inteiros.\n",
    "\n",
    "Saída\n",
    "Imprima a mensagem DIFERENCA com todas as letras maiúsculas, conforme exemplo abaixo, com um espaço em branco antes e depois da igualdade."
   ]
  },
  {
   "cell_type": "code",
   "execution_count": 8,
   "metadata": {},
   "outputs": [
    {
     "name": "stdout",
     "output_type": "stream",
     "text": [
      "DIFERENÇA =  -279\n"
     ]
    }
   ],
   "source": [
    "a = int(input(\"valor 1: \"))\n",
    "b = int(input(\"valor 2: \"))\n",
    "c = int(input(\"valor 3: \"))\n",
    "d = int(input(\"valor 4: \"))\n",
    "\n",
    "difereca = (a * b - c * d)\n",
    "print(\"DIFERENÇA = \",difereca)"
   ]
  },
  {
   "cell_type": "markdown",
   "metadata": {},
   "source": [
    "1008.Escreva um programa que leia o número de um funcionário, seu número de horas trabalhadas, o valor que recebe por hora e calcula o salário desse funcionário. A seguir, mostre o número e o salário do funcionário, com duas casas decimais.\n",
    "\n",
    "Entrada\n",
    "O arquivo de entrada contém 2 números inteiros e 1 número com duas casas decimais, representando o número, quantidade de horas trabalhadas e o valor que o funcionário recebe por hora trabalhada, respectivamente.\n",
    "\n",
    "Saída\n",
    "Imprima o número e o salário do funcionário, conforme exemplo fornecido, com um espaço em branco antes e depois da igualdade. No caso do salário, também deve haver um espaço em branco após o $."
   ]
  },
  {
   "cell_type": "code",
   "execution_count": 9,
   "metadata": {},
   "outputs": [
    {
     "name": "stdout",
     "output_type": "stream",
     "text": [
      "numero do trabalhador:  2\n",
      "Salario: R$ 400.50\n"
     ]
    }
   ],
   "source": [
    "numero = int(input(\"numero do funcionario: \"))\n",
    "horas_trabalhadas = int(input(\"horas trabalhadas: \"))\n",
    "ganho_hora = float(input(\"ganho por hora: \"))\n",
    "salario = (horas_trabalhadas * ganho_hora)\n",
    "\n",
    "print(\"numero do trabalhador: \",numero)\n",
    "print(\"Salario: R$ %.2f\"%(salario))"
   ]
  },
  {
   "cell_type": "markdown",
   "metadata": {},
   "source": [
    "1009.Faça um programa que leia o nome de um vendedor, o seu salário fixo e o total de vendas efetuadas por ele no mês (em dinheiro). Sabendo que este vendedor ganha 15% de comissão sobre suas vendas efetuadas, informar o total a receber no final do mês, com duas casas decimais.\n",
    "\n",
    "Entrada\n",
    "O arquivo de entrada contém um texto (primeiro nome do vendedor) e 2 valores de dupla precisão (double) com duas casas decimais, representando o salário fixo do vendedor e montante total das vendas efetuadas por este vendedor, respectivamente.\n",
    "\n",
    "Saída\n",
    "Imprima o total que o funcionário deverá receber, conforme exemplo fornecido."
   ]
  },
  {
   "cell_type": "code",
   "execution_count": 10,
   "metadata": {},
   "outputs": [
    {
     "name": "stdout",
     "output_type": "stream",
     "text": [
      "Nome do vendedor:  João\n",
      "Salario: R$ 1500.00\n",
      "Total Bônus: R$ 434.09\n",
      "Total do salario mais o bônus: R$ 1934.09\n"
     ]
    }
   ],
   "source": [
    "nome_vendedor = \"João\"\n",
    "salario_fixo = 1500.00\n",
    "taxa_venda = 0.15\n",
    "qtd_venda = float(input(\"digite o total de vendas: \"))\n",
    "bonus = qtd_venda * taxa_venda\n",
    "montante = salario_fixo + bonus\n",
    "\n",
    "print(\"Nome do vendedor: \",nome_vendedor)\n",
    "print(\"Salario: R$ %.2f\"%salario_fixo)\n",
    "print(\"Total Bônus: R$ %.2f\"%bonus)\n",
    "print(\"Total do salario mais o bônus: R$ %.2f\"%montante)"
   ]
  }
 ],
 "metadata": {
  "kernelspec": {
   "display_name": "Python 3",
   "language": "python",
   "name": "python3"
  },
  "language_info": {
   "codemirror_mode": {
    "name": "ipython",
    "version": 3
   },
   "file_extension": ".py",
   "mimetype": "text/x-python",
   "name": "python",
   "nbconvert_exporter": "python",
   "pygments_lexer": "ipython3",
   "version": "3.12.2"
  },
  "orig_nbformat": 4
 },
 "nbformat": 4,
 "nbformat_minor": 2
}
